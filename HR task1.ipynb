{
  "nbformat": 4,
  "nbformat_minor": 0,
  "metadata": {
    "colab": {
      "provenance": []
    },
    "kernelspec": {
      "name": "python3",
      "display_name": "Python 3"
    },
    "language_info": {
      "name": "python"
    }
  },
  "cells": [
    {
      "cell_type": "code",
      "execution_count": 4,
      "metadata": {
        "colab": {
          "base_uri": "https://localhost:8080/"
        },
        "id": "KeGcrfhI4I1G",
        "outputId": "31e5a481-38e5-4fd1-ca90-dbf94f22a03a"
      },
      "outputs": [
        {
          "output_type": "stream",
          "name": "stdout",
          "text": [
            "   ORDERNUMBER  QUANTITYORDERED  PRICEEACH  ORDERLINENUMBER    SALES  \\\n",
            "0        10107               30      95.70                2  2871.00   \n",
            "1        10121               34      81.35                5  2765.90   \n",
            "2        10134               41      94.74                2  3884.34   \n",
            "3        10145               45      83.26                6  3746.70   \n",
            "4        10159               49     100.00               14  5205.27   \n",
            "\n",
            "         ORDERDATE   STATUS  QTR_ID  MONTH_ID  YEAR_ID  ...  \\\n",
            "0   2/24/2003 0:00  Shipped       1         2     2003  ...   \n",
            "1    5/7/2003 0:00  Shipped       2         5     2003  ...   \n",
            "2    7/1/2003 0:00  Shipped       3         7     2003  ...   \n",
            "3   8/25/2003 0:00  Shipped       3         8     2003  ...   \n",
            "4  10/10/2003 0:00  Shipped       4        10     2003  ...   \n",
            "\n",
            "                    ADDRESSLINE1  ADDRESSLINE2           CITY STATE  \\\n",
            "0        897 Long Airport Avenue           NaN            NYC    NY   \n",
            "1             59 rue de l'Abbaye           NaN          Reims   NaN   \n",
            "2  27 rue du Colonel Pierre Avia           NaN          Paris   NaN   \n",
            "3             78934 Hillside Dr.           NaN       Pasadena    CA   \n",
            "4                7734 Strong St.           NaN  San Francisco    CA   \n",
            "\n",
            "  POSTALCODE COUNTRY TERRITORY CONTACTLASTNAME CONTACTFIRSTNAME DEALSIZE  \n",
            "0      10022     USA       NaN              Yu             Kwai    Small  \n",
            "1      51100  France      EMEA         Henriot             Paul    Small  \n",
            "2      75508  France      EMEA        Da Cunha           Daniel   Medium  \n",
            "3      90003     USA       NaN           Young            Julie   Medium  \n",
            "4        NaN     USA       NaN           Brown            Julie   Medium  \n",
            "\n",
            "[5 rows x 25 columns]\n"
          ]
        }
      ],
      "source": [
        "import pandas as pd\n",
        "\n",
        "# Try using ISO-8859-1 encoding (often works with such files)\n",
        "df = pd.read_csv(\"sales_data_sample.csv\", encoding='ISO-8859-1')\n",
        "\n",
        "# Now inspect the data\n",
        "print(df.head())\n"
      ]
    },
    {
      "cell_type": "code",
      "source": [
        "# Check for null values\n",
        "print(df.isnull().sum())\n",
        "\n",
        "# Drop rows with missing values\n",
        "df = df.dropna()  # or use fillna() if you want to impute missing data\n"
      ],
      "metadata": {
        "colab": {
          "base_uri": "https://localhost:8080/"
        },
        "id": "WILOqKZP4935",
        "outputId": "85ea5e82-cac5-42da-c0b3-2ecefd5235d0"
      },
      "execution_count": 5,
      "outputs": [
        {
          "output_type": "stream",
          "name": "stdout",
          "text": [
            "ORDERNUMBER            0\n",
            "QUANTITYORDERED        0\n",
            "PRICEEACH              0\n",
            "ORDERLINENUMBER        0\n",
            "SALES                  0\n",
            "ORDERDATE              0\n",
            "STATUS                 0\n",
            "QTR_ID                 0\n",
            "MONTH_ID               0\n",
            "YEAR_ID                0\n",
            "PRODUCTLINE            0\n",
            "MSRP                   0\n",
            "PRODUCTCODE            0\n",
            "CUSTOMERNAME           0\n",
            "PHONE                  0\n",
            "ADDRESSLINE1           0\n",
            "ADDRESSLINE2        2521\n",
            "CITY                   0\n",
            "STATE               1486\n",
            "POSTALCODE            76\n",
            "COUNTRY                0\n",
            "TERRITORY           1074\n",
            "CONTACTLASTNAME        0\n",
            "CONTACTFIRSTNAME       0\n",
            "DEALSIZE               0\n",
            "dtype: int64\n"
          ]
        }
      ]
    },
    {
      "cell_type": "code",
      "source": [
        "# Check for duplicate rows\n",
        "print(f\"Duplicate rows: {df.duplicated().sum()}\")\n",
        "\n",
        "# Drop duplicates\n",
        "df = df.drop_duplicates()\n"
      ],
      "metadata": {
        "colab": {
          "base_uri": "https://localhost:8080/"
        },
        "id": "B3jHkBzv5FoA",
        "outputId": "b6bc7be9-677f-4e24-e3de-4c1f6d94c569"
      },
      "execution_count": 6,
      "outputs": [
        {
          "output_type": "stream",
          "name": "stdout",
          "text": [
            "Duplicate rows: 0\n"
          ]
        }
      ]
    },
    {
      "cell_type": "code",
      "source": [
        "# Clean column names: lowercase and replace spaces\n",
        "df.columns = df.columns.str.lower().str.replace(' ', '_')\n",
        "\n",
        "# Optional: standardize 'status' column or 'productline'\n",
        "if 'status' in df.columns:\n",
        "    df['status'] = df['status'].str.upper()\n",
        "\n",
        "if 'productline' in df.columns:\n",
        "    df['productline'] = df['productline'].str.title()\n"
      ],
      "metadata": {
        "id": "MVxSqGmp5I1A"
      },
      "execution_count": 8,
      "outputs": []
    },
    {
      "cell_type": "code",
      "source": [
        "# Convert orderdate to datetime if present\n",
        "if 'orderdate' in df.columns:\n",
        "    df['orderdate'] = pd.to_datetime(df['orderdate'], errors='coerce')\n"
      ],
      "metadata": {
        "id": "zQAMk3nw5PvE"
      },
      "execution_count": 9,
      "outputs": []
    },
    {
      "cell_type": "code",
      "source": [
        "# Convert prices to float if needed\n",
        "if 'priceeach' in df.columns:\n",
        "    df['priceeach'] = df['priceeach'].astype(float)\n",
        "\n",
        "if 'quantityordered' in df.columns:\n",
        "    df['quantityordered'] = df['quantityordered'].astype(int)\n"
      ],
      "metadata": {
        "id": "vMoNZh-Y5VW1"
      },
      "execution_count": 10,
      "outputs": []
    },
    {
      "cell_type": "code",
      "source": [
        "print(\"✅ Data cleaned successfully!\")\n",
        "print(\"Final shape:\", df.shape)\n"
      ],
      "metadata": {
        "colab": {
          "base_uri": "https://localhost:8080/"
        },
        "id": "S1VO8Rvm5a3p",
        "outputId": "3deb47a3-f4de-4920-97c9-7437438d023a"
      },
      "execution_count": 11,
      "outputs": [
        {
          "output_type": "stream",
          "name": "stdout",
          "text": [
            "✅ Data cleaned successfully!\n",
            "Final shape: (147, 25)\n"
          ]
        }
      ]
    },
    {
      "cell_type": "code",
      "source": [
        "df.to_csv('sales_data_cleaned.csv', index=False)\n"
      ],
      "metadata": {
        "id": "rQ7eaRcw5fs_"
      },
      "execution_count": 12,
      "outputs": []
    }
  ]
}